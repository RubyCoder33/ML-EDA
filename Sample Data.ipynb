{
 "cells": [
  {
   "cell_type": "code",
   "execution_count": null,
   "id": "381ad467-4f32-46c3-a422-a42410f8bff0",
   "metadata": {},
   "outputs": [],
   "source": [
    "import numpy as np\n",
    "import pandas as pd\n",
    "import matplotlib.pyplot as plt\n",
    "import seaborn as sns\n",
    "from sklearn.model_selection import train_test_split, cross_val_score\n",
    "from sklearn.preprocessing import StandardScaler\n",
    "from sklearn.linear_model import LinearRegression\n",
    "from sklearn.tree import DecisionTreeRegressor\n",
    "from sklearn.ensemble import RandomForestRegressor, GradientBoostingRegressor\n",
    "from sklearn.svm import SVR\n",
    "from sklearn.metrics import mean_squared_error"
   ]
  },
  {
   "cell_type": "code",
   "execution_count": null,
   "id": "6a3664ed-e325-428b-8a64-f1b625290169",
   "metadata": {},
   "outputs": [],
   "source": [
    "# Enable inline plots\n",
    "%matplotlib inline"
   ]
  },
  {
   "cell_type": "code",
   "execution_count": 29,
   "id": "5759c5cf-d07e-4b8d-ac9f-297289a9932f",
   "metadata": {},
   "outputs": [],
   "source": [
    "# Load dataset\n",
    "file_path = r\"C:\\Users\\lione\\OneDrive\\Desktop\\Academic city University\\Level 300\\Machine learning\\Assignment\\1553768847-housing.csv\"\n",
    "housing = pd.read_csv(file_path)\n"
   ]
  },
  {
   "cell_type": "code",
   "execution_count": 31,
   "id": "c66307e0-d060-4f47-8933-aee6b5dd0173",
   "metadata": {},
   "outputs": [
    {
     "name": "stdout",
     "output_type": "stream",
     "text": [
      "   longitude  latitude  housing_median_age  total_rooms  total_bedrooms  \\\n",
      "0    -122.23     37.88                  41          880           129.0   \n",
      "1    -122.22     37.86                  21         7099          1106.0   \n",
      "2    -122.24     37.85                  52         1467           190.0   \n",
      "3    -122.25     37.85                  52         1274           235.0   \n",
      "4    -122.25     37.85                  52         1627           280.0   \n",
      "\n",
      "   population  households  median_income ocean_proximity  median_house_value  \n",
      "0         322         126         8.3252        NEAR BAY              452600  \n",
      "1        2401        1138         8.3014        NEAR BAY              358500  \n",
      "2         496         177         7.2574        NEAR BAY              352100  \n",
      "3         558         219         5.6431        NEAR BAY              341300  \n",
      "4         565         259         3.8462        NEAR BAY              342200  \n"
     ]
    }
   ],
   "source": [
    "# Display first few rows\n",
    "print(housing.head())"
   ]
  },
  {
   "cell_type": "code",
   "execution_count": 33,
   "id": "bd0433bb-0cc3-4c5f-aa4f-e49540be1080",
   "metadata": {},
   "outputs": [
    {
     "name": "stdout",
     "output_type": "stream",
     "text": [
      "longitude               0\n",
      "latitude                0\n",
      "housing_median_age      0\n",
      "total_rooms             0\n",
      "total_bedrooms        207\n",
      "population              0\n",
      "households              0\n",
      "median_income           0\n",
      "ocean_proximity         0\n",
      "median_house_value      0\n",
      "dtype: int64\n"
     ]
    }
   ],
   "source": [
    "# Check for missing values\n",
    "print(housing.isnull().sum())"
   ]
  },
  {
   "cell_type": "code",
   "execution_count": null,
   "id": "a12f8735-7c9a-45e6-b6b9-7b37368afad9",
   "metadata": {},
   "outputs": [],
   "source": [
    "# Fill missing values in 'total_bedrooms' with the median\n",
    "housing['total_bedrooms'].fillna(housing['total_bedrooms'].median(), inplace=True)"
   ]
  },
  {
   "cell_type": "code",
   "execution_count": null,
   "id": "f4f62bd6-53bd-49bf-abe0-e3ae557d81d3",
   "metadata": {},
   "outputs": [],
   "source": [
    "# Convert 'ocean_proximity' to categorical numerical values\n",
    "housing = pd.get_dummies(housing, drop_first=True)"
   ]
  },
  {
   "cell_type": "code",
   "execution_count": null,
   "id": "22a5798d-f275-4564-960d-aa50463593e3",
   "metadata": {},
   "outputs": [],
   "source": [
    "# Feature Engineering\n",
    "housing['rooms_per_household'] = housing['total_rooms'] / housing['households']\n",
    "housing['bedrooms_per_room'] = housing['total_bedrooms'] / housing['total_rooms']\n",
    "housing['population_per_household'] = housing['population'] / housing['households']"
   ]
  },
  {
   "cell_type": "code",
   "execution_count": 41,
   "id": "fc02e8b4-9703-4c5d-8260-2a5c672eedf1",
   "metadata": {},
   "outputs": [],
   "source": [
    "# Drop unnecessary columns\n",
    "housing.drop(['total_rooms', 'total_bedrooms', 'population', 'households'], axis=1, inplace=True)"
   ]
  },
  {
   "cell_type": "code",
   "execution_count": 43,
   "id": "ea21c34c-1646-4b84-a852-16ea936fc458",
   "metadata": {},
   "outputs": [],
   "source": [
    "# Define features and target variable\n",
    "X = housing.drop('median_house_value', axis=1)\n",
    "y = housing['median_house_value']\n"
   ]
  },
  {
   "cell_type": "code",
   "execution_count": 45,
   "id": "4753b1ba-0924-4931-8553-ee325b422d3f",
   "metadata": {},
   "outputs": [],
   "source": [
    "# Split the data\n",
    "X_train, X_test, y_train, y_test = train_test_split(X, y, test_size=0.2, random_state=42)"
   ]
  },
  {
   "cell_type": "code",
   "execution_count": 47,
   "id": "89c4bb6a-4e96-46a4-b8cd-37448c4e78e8",
   "metadata": {},
   "outputs": [],
   "source": [
    "# Standardize the features\n",
    "scaler = StandardScaler()\n",
    "X_train_scaled = scaler.fit_transform(X_train)\n",
    "X_test_scaled = scaler.transform(X_test)\n"
   ]
  },
  {
   "cell_type": "code",
   "execution_count": 49,
   "id": "4c1bdc65-b4ef-4259-9495-ccf0926e69bb",
   "metadata": {},
   "outputs": [],
   "source": [
    "# Initialize regression models\n",
    "models = {\n",
    "    'Linear Regression': LinearRegression(),\n",
    "    'Decision Tree Regressor': DecisionTreeRegressor(random_state=42),\n",
    "    'Random Forest Regressor': RandomForestRegressor(random_state=42),\n",
    "    'Gradient Boosting Regressor': GradientBoostingRegressor(random_state=42),\n",
    "    'Support Vector Regressor': SVR()\n",
    "}"
   ]
  },
  {
   "cell_type": "code",
   "execution_count": 51,
   "id": "ce5df782-4459-4f57-a5fe-36589ff1decd",
   "metadata": {},
   "outputs": [
    {
     "name": "stdout",
     "output_type": "stream",
     "text": [
      "Linear Regression - RMSE: 70628.68 ± 729.29\n",
      "Decision Tree Regressor - RMSE: 70078.34 ± 451.78\n",
      "Random Forest Regressor - RMSE: 49863.19 ± 383.49\n",
      "Gradient Boosting Regressor - RMSE: 52779.41 ± 725.34\n",
      "Support Vector Regressor - RMSE: 118367.12 ± 1609.11\n"
     ]
    }
   ],
   "source": [
    "# Evaluate models using cross-validation\n",
    "for name, model in models.items():\n",
    "    cv_scores = cross_val_score(model, X_train_scaled, y_train, cv=5, scoring='neg_mean_squared_error')\n",
    "    rmse_scores = np.sqrt(-cv_scores)\n",
    "    print(f\"{name} - RMSE: {rmse_scores.mean():.2f} ± {rmse_scores.std():.2f}\")"
   ]
  },
  {
   "cell_type": "code",
   "execution_count": null,
   "id": "bc8f25c3-7f4a-4fba-bb5e-84ac9faf28f5",
   "metadata": {},
   "outputs": [],
   "source": [
    "# Train and evaluate each model\n",
    "for name, model in models.items():\n",
    "    model.fit(X_train_scaled, y_train)\n",
    "    y_pred = model.predict(X_test_scaled)\n",
    "    rmse = np.sqrt(mean_squared_error(y_test, y_pred))\n",
    "    print(f\"{name} Test Set RMSE: {rmse:.2f}\")\n"
   ]
  },
  {
   "cell_type": "code",
   "execution_count": null,
   "id": "d0f131f2-042c-4d2c-9945-d673e3c6eb33",
   "metadata": {},
   "outputs": [],
   "source": [
    "# Visualization\n",
    "plt.figure(figsize=(10, 6))\n",
    "sns.histplot(housing['median_house_value'], bins=30, kde=True, color='blue')\n",
    "plt.title('Distribution of Median House Value')\n",
    "plt.xlabel('Median House Value')\n",
    "plt.ylabel('Frequency')\n",
    "plt.grid(True)\n",
    "plt.show()  # Ensure plot is displayed\n",
    "\n",
    "plt.figure(figsize=(12, 6))\n",
    "sns.heatmap(housing.corr(), annot=True, cmap='coolwarm', fmt='.2f', linewidths=0.5)\n",
    "plt.title('Correlation Heatmap')\n",
    "plt.show()  # Ensure plot is displayed\n",
    "\n",
    "plt.figure(figsize=(10, 6))\n",
    "sns.scatterplot(x=housing['median_income'], y=housing['median_house_value'], alpha=0.5, color='red')\n",
    "plt.title('Median Income vs Median House Value')\n",
    "plt.xlabel('Median Income')\n",
    "plt.ylabel('Median House Value')\n",
    "plt.grid(True)\n",
    "plt.show()  # Ensure plot is displayed\n"
   ]
  },
  {
   "cell_type": "code",
   "execution_count": null,
   "id": "7b7d953b-13fc-4a74-9ecd-da70014af79c",
   "metadata": {},
   "outputs": [],
   "source": []
  }
 ],
 "metadata": {
  "kernelspec": {
   "display_name": "Python [conda env:base] *",
   "language": "python",
   "name": "conda-base-py"
  },
  "language_info": {
   "codemirror_mode": {
    "name": "ipython",
    "version": 3
   },
   "file_extension": ".py",
   "mimetype": "text/x-python",
   "name": "python",
   "nbconvert_exporter": "python",
   "pygments_lexer": "ipython3",
   "version": "3.12.7"
  }
 },
 "nbformat": 4,
 "nbformat_minor": 5
}
