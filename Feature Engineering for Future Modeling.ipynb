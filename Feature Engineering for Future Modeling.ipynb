{
 "cells": [
  {
   "cell_type": "code",
   "execution_count": 1,
   "id": "87abfa72-8219-4302-ad5b-1816f6c3c020",
   "metadata": {},
   "outputs": [],
   "source": [
    "# How can we convert categorical variables into numbers for ML models? \n",
    "#There are many ways to do it, one one them is label encoding, it means that each category is converted into unique integer, the other one is target encoding means that we replace categories with mean target values. \n"
   ]
  },
  {
   "cell_type": "code",
   "execution_count": 3,
   "id": "aa0be715-0814-47f9-ad46-9d5e515133c5",
   "metadata": {},
   "outputs": [],
   "source": [
    "# Should we normalize numerical data? Why or why not? \n",
    "\n",
    "#It depend on what kind of model we have, some may need numerical data other will not need it.\n"
   ]
  },
  {
   "cell_type": "code",
   "execution_count": 5,
   "id": "4ff2018e-57f6-42fd-9ebf-1b0eb90c2bbb",
   "metadata": {},
   "outputs": [],
   "source": [
    "# What new features could we create to enhance predictive modeling?"
   ]
  },
  {
   "cell_type": "code",
   "execution_count": 9,
   "id": "c1c3fbda-bde6-4d7c-8707-300430bd6bf1",
   "metadata": {},
   "outputs": [],
   "source": [
    "import pandas as pd\n",
    "data = pd.read_csv('GenZ_DatingApp_Data.csv')"
   ]
  },
  {
   "cell_type": "code",
   "execution_count": 15,
   "id": "ee98aaaf-a95a-4eb3-8e7a-cef520336207",
   "metadata": {},
   "outputs": [
    {
     "name": "stdout",
     "output_type": "stream",
     "text": [
      "   User_ID  Age  Gender  Location      Education     Occupation  Primary_App  \\\n",
      "0        1   20       2         0  Undergraduate     Freelancer            1   \n",
      "1        2   24       0         2  Undergraduate  Part-time Job            1   \n",
      "4        5   18       1         2       Graduate         Intern            2   \n",
      "6        7   22       2         1   Postgraduate  Part-time Job            3   \n",
      "7        8   21       0         6   Postgraduate     Freelancer            1   \n",
      "\n",
      "  Secondary_Apps Usage_Frequency Daily_Usage_Time  ...       Challenges  \\\n",
      "0          Hinge         Monthly           1 hour  ...  Safety Concerns   \n",
      "1        OkCupid          Weekly       30 minutes  ...     Time-Wasting   \n",
      "4        OkCupid          Weekly          2 hours  ...  Safety Concerns   \n",
      "6         Tinder         Monthly       30 minutes  ...     Time-Wasting   \n",
      "7         Tinder          Weekly        1.5 hours  ...  Safety Concerns   \n",
      "\n",
      "   Desired_Features Preferred_Communication  \\\n",
      "0       Audio Calls             Video Calls   \n",
      "1       Video Calls                    Text   \n",
      "4       Video Calls                    Text   \n",
      "6       Audio Calls                    Text   \n",
      "7       Audio Calls             Video Calls   \n",
      "\n",
      "                     Partner_Priorities Daily_Usage_Hours Normalized_Age  \\\n",
      "0     Values > Personality > Appearance               1.0       0.285714   \n",
      "1     Values > Personality > Appearance               0.5       0.857143   \n",
      "4  Appearance > Interests > Personality               2.0       0.000000   \n",
      "6      Personality > Interests > Values               0.5       0.571429   \n",
      "7     Values > Personality > Appearance               1.0       0.428571   \n",
      "\n",
      "   Normalized_Usage  Age_Group  Weekly_Usage_Hours Engagement_Score  \n",
      "0               0.2      18-22                 7.0              0.0  \n",
      "1               0.0      23-26                 3.5              0.0  \n",
      "4               0.6      18-22                14.0              1.2  \n",
      "6               0.0      23-26                 3.5              0.0  \n",
      "7               0.2      18-22                 7.0              1.2  \n",
      "\n",
      "[5 rows x 22 columns]\n"
     ]
    }
   ],
   "source": [
    "from sklearn.preprocessing import LabelEncoder, MinMaxScaler\n",
    "import re  # For extracting numerical values\n",
    "\n",
    "# Load dataset\n",
    "file_path = \"GenZ_DatingApp_Data.csv\"\n",
    "data = pd.read_csv('GenZ_DatingApp_Data.csv')\n",
    "\n",
    "# Handling missing values (optional)\n",
    "data.dropna(inplace=True)\n",
    "\n",
    "# Convert 'Daily_Usage_Time' to a numeric format (hours)\n",
    "def convert_time_to_hours(time_str):\n",
    "    match = re.search(r\"(\\d+)\", str(time_str))  # Extract number\n",
    "    if match:\n",
    "        num = int(match.group(1))\n",
    "        if \"hour\" in time_str:\n",
    "            return num  # Already in hours\n",
    "        elif \"minute\" in time_str:\n",
    "            return num / 60  # Convert minutes to hours\n",
    "    return np.nan  # If unrecognized format, set as NaN\n",
    "\n",
    "data[\"Daily_Usage_Hours\"] = data[\"Daily_Usage_Time\"].apply(convert_time_to_hours)\n",
    "\n",
    "# Encoding categorical variables\n",
    "label_encoders = {}\n",
    "for col in [\"Gender\", \"Primary_App\", \"Location\"]:\n",
    "    le = LabelEncoder()\n",
    "    data[col] = le.fit_transform(data[col])\n",
    "    label_encoders[col] = le  # Store encoder for future use\n",
    "\n",
    "# Normalizing numerical data\n",
    "scaler = MinMaxScaler()\n",
    "data[\"Normalized_Age\"] = scaler.fit_transform(data[[\"Age\"]])\n",
    "data[\"Normalized_Usage\"] = scaler.fit_transform(data[[\"Daily_Usage_Hours\"]])\n",
    "\n",
    "# Feature Engineering\n",
    "# Create Age Groups\n",
    "bins = [18, 22, 26, 30, 100]  # Adjust as needed\n",
    "labels = [\"18-22\", \"23-26\", \"27-30\", \"30+\"]\n",
    "data[\"Age_Group\"] = pd.cut(data[\"Age\"], bins=bins, labels=labels, right=False)\n",
    "\n",
    "# Compute weekly usage estimate\n",
    "data[\"Weekly_Usage_Hours\"] = data[\"Daily_Usage_Hours\"] * 7\n",
    "\n",
    "# Engagement Score (a feature combining usage and location)\n",
    "data[\"Engagement_Score\"] = data[\"Normalized_Usage\"] * data[\"Location\"]\n",
    "\n",
    "# Display processed data\n",
    "print(data.head())"
   ]
  }
 ],
 "metadata": {
  "kernelspec": {
   "display_name": "Python [conda env:base] *",
   "language": "python",
   "name": "conda-base-py"
  },
  "language_info": {
   "codemirror_mode": {
    "name": "ipython",
    "version": 3
   },
   "file_extension": ".py",
   "mimetype": "text/x-python",
   "name": "python",
   "nbconvert_exporter": "python",
   "pygments_lexer": "ipython3",
   "version": "3.12.7"
  }
 },
 "nbformat": 4,
 "nbformat_minor": 5
}
